{
 "metadata": {
  "name": "",
  "signature": "sha256:02be281e9b79ccd23f79896448f42181eddc40fe6ddbf9004cc2d6bb6e4058a4"
 },
 "nbformat": 3,
 "nbformat_minor": 0,
 "worksheets": [
  {
   "cells": [
    {
     "cell_type": "code",
     "collapsed": false,
     "input": [
      "import rospy\n",
      "\n",
      "rospy.init_node('baxter_a_la_peche')"
     ],
     "language": "python",
     "metadata": {},
     "outputs": [],
     "prompt_number": 1
    },
    {
     "cell_type": "code",
     "collapsed": false,
     "input": [
      "import sys\n",
      "sys.path.append('/home/baxtercontrol/dev/baxter_flowers/src/')"
     ],
     "language": "python",
     "metadata": {},
     "outputs": [],
     "prompt_number": 2
    },
    {
     "cell_type": "code",
     "collapsed": false,
     "input": [
      "from baxter_flowers import Baxter, Trajectory\n",
      "\n",
      "baxter = Baxter()"
     ],
     "language": "python",
     "metadata": {},
     "outputs": [
      {
       "output_type": "stream",
       "stream": "stdout",
       "text": [
        "[INFO] [WallTime: 1408438558.188391] Robot Enabled\n"
       ]
      }
     ],
     "prompt_number": 3
    },
    {
     "cell_type": "heading",
     "level": 3,
     "metadata": {},
     "source": [
      "Position initiale / finale"
     ]
    },
    {
     "cell_type": "code",
     "collapsed": false,
     "input": [
      "%pylab inline\n",
      "\n",
      "init_pos = load('init_pos.npy')\n",
      "end_pos = load('end_pos.npy')"
     ],
     "language": "python",
     "metadata": {},
     "outputs": [
      {
       "output_type": "stream",
       "stream": "stdout",
       "text": [
        "Populating the interactive namespace from numpy and matplotlib\n"
       ]
      }
     ],
     "prompt_number": 4
    },
    {
     "cell_type": "code",
     "collapsed": false,
     "input": [
      "d = concatenate((zeros(1), init_pos)).reshape(1, -1)\n",
      "init_traj = Trajectory(baxter.left_arm, d) \n",
      "init_traj.play()\n",
      "init_traj.wait()"
     ],
     "language": "python",
     "metadata": {},
     "outputs": [
      {
       "metadata": {},
       "output_type": "pyout",
       "prompt_number": 5,
       "text": [
        "True"
       ]
      }
     ],
     "prompt_number": 5
    },
    {
     "cell_type": "code",
     "collapsed": false,
     "input": [
      "d = concatenate((zeros(1), end_pos)).reshape(1, -1)\n",
      "end_traj = Trajectory(baxter.left_arm, d) \n",
      "end_traj.play()\n",
      "end_traj.wait()"
     ],
     "language": "python",
     "metadata": {},
     "outputs": [
      {
       "metadata": {},
       "output_type": "pyout",
       "prompt_number": 6,
       "text": [
        "True"
       ]
      }
     ],
     "prompt_number": 6
    },
    {
     "cell_type": "code",
     "collapsed": false,
     "input": [
      "traj = Trajectory(baxter.left_arm, load('traj.npy'))\n",
      "traj.play()\n",
      "traj.wait()"
     ],
     "language": "python",
     "metadata": {},
     "outputs": [
      {
       "metadata": {},
       "output_type": "pyout",
       "prompt_number": 7,
       "text": [
        "True"
       ]
      }
     ],
     "prompt_number": 7
    },
    {
     "cell_type": "code",
     "collapsed": false,
     "input": [
      "from baxter_flowers.trajectory import TrajectoryRecorder\n",
      "\n",
      "tr = TrajectoryRecorder(baxter.left_arm, 50)"
     ],
     "language": "python",
     "metadata": {},
     "outputs": [],
     "prompt_number": 8
    },
    {
     "cell_type": "code",
     "collapsed": false,
     "input": [
      "import time\n",
      "\n",
      "DURATION = 10 * 60 * 60\n",
      "\n",
      "start = time.time()\n",
      "data = []\n",
      "\n",
      "\n",
      "while time.time() - start < DURATION:\n",
      "    init_traj.play()\n",
      "    init_traj.wait()\n",
      "\n",
      "    time.sleep(2)\n",
      "        \n",
      "    tr.start()\n",
      "    traj.play()\n",
      "    traj.wait()\n",
      "\n",
      "    time.sleep(2)\n",
      "    tr.stop()\n",
      "\n",
      "    data.append(tr.recorded_trajectory)"
     ],
     "language": "python",
     "metadata": {},
     "outputs": [],
     "prompt_number": 9
    },
    {
     "cell_type": "code",
     "collapsed": false,
     "input": [
      "save('traj-data.npy', array([d.data for d in data]))"
     ],
     "language": "python",
     "metadata": {},
     "outputs": [],
     "prompt_number": 10
    },
    {
     "cell_type": "code",
     "collapsed": false,
     "input": [
      "len(data)"
     ],
     "language": "python",
     "metadata": {},
     "outputs": [
      {
       "metadata": {},
       "output_type": "pyout",
       "prompt_number": 11,
       "text": [
        "2394"
       ]
      }
     ],
     "prompt_number": 11
    },
    {
     "cell_type": "code",
     "collapsed": false,
     "input": [
      "plot(data[0].data)\n",
      "plot(data[-1].data)"
     ],
     "language": "python",
     "metadata": {},
     "outputs": [
      {
       "metadata": {},
       "output_type": "pyout",
       "prompt_number": 12,
       "text": [
        "[<matplotlib.lines.Line2D at 0x362fa50>,\n",
        " <matplotlib.lines.Line2D at 0x7f71b9b4b090>,\n",
        " <matplotlib.lines.Line2D at 0x7f71b9b4b210>,\n",
        " <matplotlib.lines.Line2D at 0x7f71b9b4b490>,\n",
        " <matplotlib.lines.Line2D at 0x7f71b9b4b610>,\n",
        " <matplotlib.lines.Line2D at 0x7f71b9b4b790>,\n",
        " <matplotlib.lines.Line2D at 0x7f71b9b47290>,\n",
        " <matplotlib.lines.Line2D at 0x7f71b9b4ba90>]"
       ]
      },
      {
       "metadata": {},
       "output_type": "display_data",
       "png": "[encoded data removed]",
       "text": [
        "<matplotlib.figure.Figure at 0x362fa10>"
       ]
      }
     ],
     "prompt_number": 12
    },
    {
     "cell_type": "code",
     "collapsed": false,
     "input": [],
     "language": "python",
     "metadata": {},
     "outputs": []
    }
   ],
   "metadata": {}
  }
 ]
}