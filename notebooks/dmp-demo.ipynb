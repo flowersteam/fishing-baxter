{
 "metadata": {
  "name": "",
  "signature": "sha256:4938f081eb2539fd27d8281fe29b050db224e87676dbf35ae5080cd75ae58308"
 },
 "nbformat": 3,
 "nbformat_minor": 0,
 "worksheets": [
  {
   "cells": [
    {
     "cell_type": "code",
     "collapsed": false,
     "input": [
      "import rospy\n",
      "\n",
      "rospy.init_note('baxter_a_la_peche')"
     ],
     "language": "python",
     "metadata": {},
     "outputs": []
    },
    {
     "cell_type": "code",
     "collapsed": false,
     "input": [
      "from baxter_flowers import Baxter, Trajectory\n",
      "\n",
      "baxter = Baxter()"
     ],
     "language": "python",
     "metadata": {},
     "outputs": []
    },
    {
     "cell_type": "code",
     "collapsed": false,
     "input": [
      "from dmpbbo import Dmp"
     ],
     "language": "python",
     "metadata": {},
     "outputs": []
    },
    {
     "cell_type": "code",
     "collapsed": false,
     "input": [
      "dmp = Dmp(....)\n",
      "\n",
      "t, pos, _, _ = dmp.trajectory(...)"
     ],
     "language": "python",
     "metadata": {},
     "outputs": []
    },
    {
     "cell_type": "code",
     "collapsed": false,
     "input": [
      "from numpy import hstack\n",
      "\n",
      "data = hstack((t.reshape(-1, 1), pos))\n",
      "traj = Trajectory(baxter.left_arm, data)"
     ],
     "language": "python",
     "metadata": {},
     "outputs": []
    },
    {
     "cell_type": "code",
     "collapsed": false,
     "input": [
      "traj.play()"
     ],
     "language": "python",
     "metadata": {},
     "outputs": []
    }
   ],
   "metadata": {}
  }
 ]
}